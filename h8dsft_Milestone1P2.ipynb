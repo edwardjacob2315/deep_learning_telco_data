{
 "cells": [
  {
   "cell_type": "markdown",
   "id": "0cfb34ac-13ec-42d6-a948-df4e3adcae4a",
   "metadata": {},
   "source": [
    "# 1. Perkenalan"
   ]
  },
  {
   "cell_type": "markdown",
   "id": "f34426cf-f65e-46ef-bdab-d5110be11744",
   "metadata": {},
   "source": [
    "Nama: Bintang Muhammad <br>\n",
    "Course: Data Science <br>\n",
    "Batch: 6 <br>"
   ]
  },
  {
   "cell_type": "markdown",
   "id": "d3657dbc-c5a5-497f-a1b5-5f238d819cf6",
   "metadata": {
    "tags": []
   },
   "source": [
    "## About The Data"
   ]
  },
  {
   "cell_type": "markdown",
   "id": "da52498d-90c5-40f6-8568-91c18ddd235e",
   "metadata": {},
   "source": [
    "- The Data represents a customer from a Communication company, Telco.\n",
    "- Each column contains customer’s attributes like subscription, gender, etc.\n",
    "- Target variable: Churn.\n",
    "- Objective: Create a few Neural Network Models to predict the label."
   ]
  },
  {
   "cell_type": "markdown",
   "id": "ffe97f15-6efb-4565-99ed-5864519e359a",
   "metadata": {},
   "source": [
    "\n",
    "# 2. Import Library"
   ]
  },
  {
   "cell_type": "code",
   "execution_count": 26,
   "id": "031cb2da-357e-4e0f-b196-c1aeabb74bbb",
   "metadata": {},
   "outputs": [],
   "source": [
    "#import library\n",
    "import requests\n",
    "import pandas as pd\n",
    "import matplotlib.pyplot as plt\n",
    "import seaborn as sns\n",
    "import numpy as np\n",
    "import scipy.stats as st\n",
    "from sklearn.model_selection import train_test_split\n",
    "from sklearn.preprocessing import MinMaxScaler, StandardScaler\n",
    "from sklearn.utils import resample\n",
    "from sklearn.pipeline import Pipeline\n",
    "from sklearn.compose import ColumnTransformer\n",
    "import matplotlib.pyplot as plt\n",
    "from sklearn.preprocessing import LabelEncoder, OneHotEncoder\n",
    "import tensorflow as tf\n",
    "from tensorflow.keras.models import Sequential\n",
    "from tensorflow.keras.layers import Dense\n",
    "from tensorflow import keras\n",
    "from tensorflow.keras.utils import plot_model\n",
    "import matplotlib.pyplot as plt\n",
    "import pydot\n",
    "import graphviz\n",
    "from sklearn.metrics import classification_report\n",
    "import tensorflow as tf\n",
    "import pickle"
   ]
  },
  {
   "cell_type": "markdown",
   "id": "a8abcac4-8a36-48d4-8e49-fd4dbc406574",
   "metadata": {},
   "source": [
    "# 3. Data Loading"
   ]
  },
  {
   "cell_type": "code",
   "execution_count": 27,
   "id": "00140513-10c8-4e53-9863-f7344c440344",
   "metadata": {},
   "outputs": [],
   "source": [
    "#data loading\n",
    "df=pd.read_csv('telco.csv')"
   ]
  },
  {
   "cell_type": "code",
   "execution_count": 28,
   "id": "8e1bdaff-6f17-4b29-b939-1f40e99db9ed",
   "metadata": {},
   "outputs": [
    {
     "data": {
      "text/html": [
       "<div>\n",
       "<style scoped>\n",
       "    .dataframe tbody tr th:only-of-type {\n",
       "        vertical-align: middle;\n",
       "    }\n",
       "\n",
       "    .dataframe tbody tr th {\n",
       "        vertical-align: top;\n",
       "    }\n",
       "\n",
       "    .dataframe thead th {\n",
       "        text-align: right;\n",
       "    }\n",
       "</style>\n",
       "<table border=\"1\" class=\"dataframe\">\n",
       "  <thead>\n",
       "    <tr style=\"text-align: right;\">\n",
       "      <th></th>\n",
       "      <th>customerID</th>\n",
       "      <th>gender</th>\n",
       "      <th>SeniorCitizen</th>\n",
       "      <th>Partner</th>\n",
       "      <th>Dependents</th>\n",
       "      <th>tenure</th>\n",
       "      <th>PhoneService</th>\n",
       "      <th>MultipleLines</th>\n",
       "      <th>InternetService</th>\n",
       "      <th>OnlineSecurity</th>\n",
       "      <th>...</th>\n",
       "      <th>DeviceProtection</th>\n",
       "      <th>TechSupport</th>\n",
       "      <th>StreamingTV</th>\n",
       "      <th>StreamingMovies</th>\n",
       "      <th>Contract</th>\n",
       "      <th>PaperlessBilling</th>\n",
       "      <th>PaymentMethod</th>\n",
       "      <th>MonthlyCharges</th>\n",
       "      <th>TotalCharges</th>\n",
       "      <th>Churn</th>\n",
       "    </tr>\n",
       "  </thead>\n",
       "  <tbody>\n",
       "    <tr>\n",
       "      <th>0</th>\n",
       "      <td>7590-VHVEG</td>\n",
       "      <td>Female</td>\n",
       "      <td>0</td>\n",
       "      <td>Yes</td>\n",
       "      <td>No</td>\n",
       "      <td>1</td>\n",
       "      <td>No</td>\n",
       "      <td>No phone service</td>\n",
       "      <td>DSL</td>\n",
       "      <td>No</td>\n",
       "      <td>...</td>\n",
       "      <td>No</td>\n",
       "      <td>No</td>\n",
       "      <td>No</td>\n",
       "      <td>No</td>\n",
       "      <td>Month-to-month</td>\n",
       "      <td>Yes</td>\n",
       "      <td>Electronic check</td>\n",
       "      <td>29.85</td>\n",
       "      <td>29.85</td>\n",
       "      <td>No</td>\n",
       "    </tr>\n",
       "    <tr>\n",
       "      <th>1</th>\n",
       "      <td>5575-GNVDE</td>\n",
       "      <td>Male</td>\n",
       "      <td>0</td>\n",
       "      <td>No</td>\n",
       "      <td>No</td>\n",
       "      <td>34</td>\n",
       "      <td>Yes</td>\n",
       "      <td>No</td>\n",
       "      <td>DSL</td>\n",
       "      <td>Yes</td>\n",
       "      <td>...</td>\n",
       "      <td>Yes</td>\n",
       "      <td>No</td>\n",
       "      <td>No</td>\n",
       "      <td>No</td>\n",
       "      <td>One year</td>\n",
       "      <td>No</td>\n",
       "      <td>Mailed check</td>\n",
       "      <td>56.95</td>\n",
       "      <td>1889.5</td>\n",
       "      <td>No</td>\n",
       "    </tr>\n",
       "    <tr>\n",
       "      <th>2</th>\n",
       "      <td>3668-QPYBK</td>\n",
       "      <td>Male</td>\n",
       "      <td>0</td>\n",
       "      <td>No</td>\n",
       "      <td>No</td>\n",
       "      <td>2</td>\n",
       "      <td>Yes</td>\n",
       "      <td>No</td>\n",
       "      <td>DSL</td>\n",
       "      <td>Yes</td>\n",
       "      <td>...</td>\n",
       "      <td>No</td>\n",
       "      <td>No</td>\n",
       "      <td>No</td>\n",
       "      <td>No</td>\n",
       "      <td>Month-to-month</td>\n",
       "      <td>Yes</td>\n",
       "      <td>Mailed check</td>\n",
       "      <td>53.85</td>\n",
       "      <td>108.15</td>\n",
       "      <td>Yes</td>\n",
       "    </tr>\n",
       "    <tr>\n",
       "      <th>3</th>\n",
       "      <td>7795-CFOCW</td>\n",
       "      <td>Male</td>\n",
       "      <td>0</td>\n",
       "      <td>No</td>\n",
       "      <td>No</td>\n",
       "      <td>45</td>\n",
       "      <td>No</td>\n",
       "      <td>No phone service</td>\n",
       "      <td>DSL</td>\n",
       "      <td>Yes</td>\n",
       "      <td>...</td>\n",
       "      <td>Yes</td>\n",
       "      <td>Yes</td>\n",
       "      <td>No</td>\n",
       "      <td>No</td>\n",
       "      <td>One year</td>\n",
       "      <td>No</td>\n",
       "      <td>Bank transfer (automatic)</td>\n",
       "      <td>42.30</td>\n",
       "      <td>1840.75</td>\n",
       "      <td>No</td>\n",
       "    </tr>\n",
       "    <tr>\n",
       "      <th>4</th>\n",
       "      <td>9237-HQITU</td>\n",
       "      <td>Female</td>\n",
       "      <td>0</td>\n",
       "      <td>No</td>\n",
       "      <td>No</td>\n",
       "      <td>2</td>\n",
       "      <td>Yes</td>\n",
       "      <td>No</td>\n",
       "      <td>Fiber optic</td>\n",
       "      <td>No</td>\n",
       "      <td>...</td>\n",
       "      <td>No</td>\n",
       "      <td>No</td>\n",
       "      <td>No</td>\n",
       "      <td>No</td>\n",
       "      <td>Month-to-month</td>\n",
       "      <td>Yes</td>\n",
       "      <td>Electronic check</td>\n",
       "      <td>70.70</td>\n",
       "      <td>151.65</td>\n",
       "      <td>Yes</td>\n",
       "    </tr>\n",
       "  </tbody>\n",
       "</table>\n",
       "<p>5 rows × 21 columns</p>\n",
       "</div>"
      ],
      "text/plain": [
       "   customerID  gender  SeniorCitizen Partner Dependents  tenure PhoneService  \\\n",
       "0  7590-VHVEG  Female              0     Yes         No       1           No   \n",
       "1  5575-GNVDE    Male              0      No         No      34          Yes   \n",
       "2  3668-QPYBK    Male              0      No         No       2          Yes   \n",
       "3  7795-CFOCW    Male              0      No         No      45           No   \n",
       "4  9237-HQITU  Female              0      No         No       2          Yes   \n",
       "\n",
       "      MultipleLines InternetService OnlineSecurity  ... DeviceProtection  \\\n",
       "0  No phone service             DSL             No  ...               No   \n",
       "1                No             DSL            Yes  ...              Yes   \n",
       "2                No             DSL            Yes  ...               No   \n",
       "3  No phone service             DSL            Yes  ...              Yes   \n",
       "4                No     Fiber optic             No  ...               No   \n",
       "\n",
       "  TechSupport StreamingTV StreamingMovies        Contract PaperlessBilling  \\\n",
       "0          No          No              No  Month-to-month              Yes   \n",
       "1          No          No              No        One year               No   \n",
       "2          No          No              No  Month-to-month              Yes   \n",
       "3         Yes          No              No        One year               No   \n",
       "4          No          No              No  Month-to-month              Yes   \n",
       "\n",
       "               PaymentMethod MonthlyCharges  TotalCharges Churn  \n",
       "0           Electronic check          29.85         29.85    No  \n",
       "1               Mailed check          56.95        1889.5    No  \n",
       "2               Mailed check          53.85        108.15   Yes  \n",
       "3  Bank transfer (automatic)          42.30       1840.75    No  \n",
       "4           Electronic check          70.70        151.65   Yes  \n",
       "\n",
       "[5 rows x 21 columns]"
      ]
     },
     "execution_count": 28,
     "metadata": {},
     "output_type": "execute_result"
    }
   ],
   "source": [
    "#view data\n",
    "df.head(5)"
   ]
  },
  {
   "cell_type": "markdown",
   "id": "0efdbd79-e9cd-42b0-a613-d5234d230d45",
   "metadata": {},
   "source": [
    "- Data consists of customers profile data of telecommunication company.\n",
    "- The target variable is churn.\n",
    "- There is some columns that the data type need to be changed."
   ]
  },
  {
   "cell_type": "markdown",
   "id": "7bdfbce5-3f5b-44d7-8e47-cfb6e3ab148c",
   "metadata": {},
   "source": [
    "# 4. Data Cleaning"
   ]
  },
  {
   "cell_type": "code",
   "execution_count": 29,
   "id": "a80130c4-d840-4232-bb11-19c9f8f720d1",
   "metadata": {},
   "outputs": [
    {
     "name": "stdout",
     "output_type": "stream",
     "text": [
      "<class 'pandas.core.frame.DataFrame'>\n",
      "RangeIndex: 7043 entries, 0 to 7042\n",
      "Data columns (total 21 columns):\n",
      " #   Column            Non-Null Count  Dtype  \n",
      "---  ------            --------------  -----  \n",
      " 0   customerID        7043 non-null   object \n",
      " 1   gender            7043 non-null   object \n",
      " 2   SeniorCitizen     7043 non-null   int64  \n",
      " 3   Partner           7043 non-null   object \n",
      " 4   Dependents        7043 non-null   object \n",
      " 5   tenure            7043 non-null   int64  \n",
      " 6   PhoneService      7043 non-null   object \n",
      " 7   MultipleLines     7043 non-null   object \n",
      " 8   InternetService   7043 non-null   object \n",
      " 9   OnlineSecurity    7043 non-null   object \n",
      " 10  OnlineBackup      7043 non-null   object \n",
      " 11  DeviceProtection  7043 non-null   object \n",
      " 12  TechSupport       7043 non-null   object \n",
      " 13  StreamingTV       7043 non-null   object \n",
      " 14  StreamingMovies   7043 non-null   object \n",
      " 15  Contract          7043 non-null   object \n",
      " 16  PaperlessBilling  7043 non-null   object \n",
      " 17  PaymentMethod     7043 non-null   object \n",
      " 18  MonthlyCharges    7043 non-null   float64\n",
      " 19  TotalCharges      7043 non-null   object \n",
      " 20  Churn             7043 non-null   object \n",
      "dtypes: float64(1), int64(2), object(18)\n",
      "memory usage: 1.1+ MB\n"
     ]
    }
   ],
   "source": [
    "#view data info\n",
    "df.info()"
   ]
  },
  {
   "cell_type": "markdown",
   "id": "af4c10e1-3e8f-45d2-888c-5117b0bf9bff",
   "metadata": {},
   "source": [
    "- Data consists of 7043 rows and 21 columns\n",
    "- There is 1 float, 2 integer and 18 object data type\n",
    "- There is no null valus on the data."
   ]
  },
  {
   "cell_type": "code",
   "execution_count": 30,
   "id": "cfdabf63-1b30-45e5-b803-9fd6b594ad76",
   "metadata": {},
   "outputs": [
    {
     "data": {
      "text/plain": [
       "customerID          0\n",
       "gender              0\n",
       "SeniorCitizen       0\n",
       "Partner             0\n",
       "Dependents          0\n",
       "tenure              0\n",
       "PhoneService        0\n",
       "MultipleLines       0\n",
       "InternetService     0\n",
       "OnlineSecurity      0\n",
       "OnlineBackup        0\n",
       "DeviceProtection    0\n",
       "TechSupport         0\n",
       "StreamingTV         0\n",
       "StreamingMovies     0\n",
       "Contract            0\n",
       "PaperlessBilling    0\n",
       "PaymentMethod       0\n",
       "MonthlyCharges      0\n",
       "TotalCharges        0\n",
       "Churn               0\n",
       "dtype: int64"
      ]
     },
     "execution_count": 30,
     "metadata": {},
     "output_type": "execute_result"
    }
   ],
   "source": [
    "#check null values\n",
    "df.isna().sum()"
   ]
  },
  {
   "cell_type": "markdown",
   "id": "23ce3bd5-0d1a-4648-8091-ac555cd81972",
   "metadata": {},
   "source": [
    "- No null values on the data"
   ]
  },
  {
   "cell_type": "code",
   "execution_count": 31,
   "id": "0c5a5c41-88a9-4bef-ad60-b8d744521303",
   "metadata": {},
   "outputs": [
    {
     "data": {
      "text/plain": [
       "0"
      ]
     },
     "execution_count": 31,
     "metadata": {},
     "output_type": "execute_result"
    }
   ],
   "source": [
    "#view duplicate data\n",
    "df.duplicated().sum()"
   ]
  },
  {
   "cell_type": "markdown",
   "id": "415801d7-c3ce-4d44-9125-fd49c9f7d928",
   "metadata": {},
   "source": [
    "- No duplicate values on the data"
   ]
  },
  {
   "cell_type": "code",
   "execution_count": 32,
   "id": "06b086b2-a013-480c-9383-af00a6d69929",
   "metadata": {},
   "outputs": [
    {
     "data": {
      "text/plain": [
       "customerID           0\n",
       "gender               0\n",
       "SeniorCitizen        0\n",
       "Partner              0\n",
       "Dependents           0\n",
       "tenure               0\n",
       "PhoneService         0\n",
       "MultipleLines        0\n",
       "InternetService      0\n",
       "OnlineSecurity       0\n",
       "OnlineBackup         0\n",
       "DeviceProtection     0\n",
       "TechSupport          0\n",
       "StreamingTV          0\n",
       "StreamingMovies      0\n",
       "Contract             0\n",
       "PaperlessBilling     0\n",
       "PaymentMethod        0\n",
       "MonthlyCharges       0\n",
       "TotalCharges        11\n",
       "Churn                0\n",
       "dtype: int64"
      ]
     },
     "execution_count": 32,
     "metadata": {},
     "output_type": "execute_result"
    }
   ],
   "source": [
    "#fix error on the data\n",
    "df.TotalCharges = pd.to_numeric(df.TotalCharges, errors='coerce')\n",
    "df.isnull().sum()"
   ]
  },
  {
   "cell_type": "markdown",
   "id": "34f63dda-fd24-49d8-8158-2f30f8cef429",
   "metadata": {},
   "source": [
    "- There is null values on the data after fixing the error"
   ]
  },
  {
   "cell_type": "code",
   "execution_count": 33,
   "id": "7d041939-ce93-4c85-b142-41ac9f58b852",
   "metadata": {},
   "outputs": [],
   "source": [
    "#remove null values\n",
    "df=df.dropna()"
   ]
  },
  {
   "cell_type": "code",
   "execution_count": 34,
   "id": "26e0037f-e845-4c03-9d8b-5f30d044c032",
   "metadata": {},
   "outputs": [
    {
     "data": {
      "text/plain": [
       "customerID          0\n",
       "gender              0\n",
       "SeniorCitizen       0\n",
       "Partner             0\n",
       "Dependents          0\n",
       "tenure              0\n",
       "PhoneService        0\n",
       "MultipleLines       0\n",
       "InternetService     0\n",
       "OnlineSecurity      0\n",
       "OnlineBackup        0\n",
       "DeviceProtection    0\n",
       "TechSupport         0\n",
       "StreamingTV         0\n",
       "StreamingMovies     0\n",
       "Contract            0\n",
       "PaperlessBilling    0\n",
       "PaymentMethod       0\n",
       "MonthlyCharges      0\n",
       "TotalCharges        0\n",
       "Churn               0\n",
       "dtype: int64"
      ]
     },
     "execution_count": 34,
     "metadata": {},
     "output_type": "execute_result"
    }
   ],
   "source": [
    "#check null values\n",
    "df.isna().sum()"
   ]
  },
  {
   "cell_type": "markdown",
   "id": "64188335-a58a-4706-94b1-33d5828d5e10",
   "metadata": {},
   "source": [
    "- no null after cleaning"
   ]
  },
  {
   "cell_type": "code",
   "execution_count": 35,
   "id": "3f82c3e6-7259-42c0-822d-e4f83b99f118",
   "metadata": {},
   "outputs": [
    {
     "name": "stdout",
     "output_type": "stream",
     "text": [
      "<class 'pandas.core.frame.DataFrame'>\n",
      "Int64Index: 7032 entries, 0 to 7042\n",
      "Data columns (total 21 columns):\n",
      " #   Column            Non-Null Count  Dtype  \n",
      "---  ------            --------------  -----  \n",
      " 0   customerID        7032 non-null   object \n",
      " 1   gender            7032 non-null   object \n",
      " 2   SeniorCitizen     7032 non-null   int64  \n",
      " 3   Partner           7032 non-null   object \n",
      " 4   Dependents        7032 non-null   object \n",
      " 5   tenure            7032 non-null   int64  \n",
      " 6   PhoneService      7032 non-null   object \n",
      " 7   MultipleLines     7032 non-null   object \n",
      " 8   InternetService   7032 non-null   object \n",
      " 9   OnlineSecurity    7032 non-null   object \n",
      " 10  OnlineBackup      7032 non-null   object \n",
      " 11  DeviceProtection  7032 non-null   object \n",
      " 12  TechSupport       7032 non-null   object \n",
      " 13  StreamingTV       7032 non-null   object \n",
      " 14  StreamingMovies   7032 non-null   object \n",
      " 15  Contract          7032 non-null   object \n",
      " 16  PaperlessBilling  7032 non-null   object \n",
      " 17  PaymentMethod     7032 non-null   object \n",
      " 18  MonthlyCharges    7032 non-null   float64\n",
      " 19  TotalCharges      7032 non-null   float64\n",
      " 20  Churn             7032 non-null   object \n",
      "dtypes: float64(2), int64(2), object(17)\n",
      "memory usage: 1.2+ MB\n"
     ]
    }
   ],
   "source": [
    "#view data info\n",
    "df.info()"
   ]
  },
  {
   "cell_type": "markdown",
   "id": "96b204f0-61b5-443a-bb69-1efb697464c0",
   "metadata": {},
   "source": [
    "After cleaning:\n",
    "\n",
    "- Data consists of 7032 rows and 21 columns\n",
    "- There is 2 float, 2 integer and 17 object data type"
   ]
  },
  {
   "cell_type": "code",
   "execution_count": 36,
   "id": "52a8d53b-03b4-4218-972c-ae7eff5a74e4",
   "metadata": {},
   "outputs": [],
   "source": [
    "#exclude customer id\n",
    "df2=df.iloc[:,1:]"
   ]
  },
  {
   "cell_type": "code",
   "execution_count": 37,
   "id": "1fbe4ba9-b287-4df6-b931-4b2a0394b382",
   "metadata": {},
   "outputs": [],
   "source": [
    "#lower case all column name\n",
    "df2=df2.rename(columns=str.lower)"
   ]
  },
  {
   "cell_type": "code",
   "execution_count": 38,
   "id": "f2cbdfce-4c1e-432f-932b-80056f3ad76c",
   "metadata": {},
   "outputs": [],
   "source": [
    "#change data object\n",
    "df2=df2.astype({'seniorcitizen':object})"
   ]
  },
  {
   "cell_type": "code",
   "execution_count": 39,
   "id": "fef5f9df-0838-438a-bcd8-e339022f300c",
   "metadata": {},
   "outputs": [
    {
     "data": {
      "text/plain": [
       "<AxesSubplot:>"
      ]
     },
     "execution_count": 39,
     "metadata": {},
     "output_type": "execute_result"
    },
    {
     "data": {
      "image/png": "[encoded data removed]",
      "text/plain": [
       "<Figure size 720x360 with 2 Axes>"
      ]
     },
     "metadata": {
      "needs_background": "light"
     },
     "output_type": "display_data"
    }
   ],
   "source": [
    "#view heatmap correlation to check redundant datas\n",
    "plt.figure(figsize=(10,5))\n",
    "sns.heatmap(df2.corr(),annot=True, fmt='.2f')"
   ]
  },
  {
   "cell_type": "code",
   "execution_count": 40,
   "id": "9193fb7c-41e5-456c-be55-67ae59985a62",
   "metadata": {},
   "outputs": [],
   "source": [
    "#drop tenure column because redundant with total charges\n",
    "df2=df2.drop(columns=['tenure'])"
   ]
  },
  {
   "cell_type": "markdown",
   "id": "c800a6f0-095d-47cc-b034-ac588e31ee4a",
   "metadata": {
    "tags": []
   },
   "source": [
    "# 5. Data Exploration"
   ]
  },
  {
   "cell_type": "markdown",
   "id": "51dec42e-d147-4ebf-a05e-2d55e9315961",
   "metadata": {},
   "source": [
    "| Variable | Definition |\n",
    "| ----------- | ----------- | \n",
    "|CustomerID:| A unique ID that identifies each customer. |\n",
    "|Count:| A value used in reporting/dashboarding to sum up the number of customers in a filtered set.|\n",
    "|Gender:| The customer’s gender: Male, Female.|\n",
    "|Age:| The customer’s current age, in years, at the time the fiscal quarter ended.|\n",
    "|Senior Citizen:| Indicates if the customer is 65 or older: Yes, No.|\n",
    "|Married:| Indicates if the customer is married: Yes, No.|\n",
    "|Dependents:| Indicates if the customer lives with any dependents: Yes, No. Dependents could be children, parents, grandparents, etc.|\n",
    "|PhoneService:|Whether the customer has a phone service or not (Yes, No)|\n",
    "|MultipleLines:|Whether the customer has multiple lines or not (Yes, No, No phone service)|\n",
    "|InternetService:|Customer’s internet service provider (DSL, Fiber optic, No))|\n",
    "|OnlineSecurity:|Whether the customer has online security or not (Yes, No, No internet service)|\n",
    "|OnlineBackup:|Whether the customer has online backup or not (Yes, No, No internet service)|\n",
    "|DeviceProtection:|Whether the customer has device protection or not (Yes, No, No internet service)|\n",
    "|TechSupport:|Whether the customer has tech support or not (Yes, No, No internet service)|\n",
    "|StreamingTV:|Whether the customer has streaming TV or not (Yes, No, No internet service)|\n",
    "|StreamingMovies:|Whether the customer has streaming movies or not (Yes, No, No internet service)|\n",
    "|Contract:|The contract term of the customer (Month-to-month, One year, Two year)|\n",
    "|PaperlessBilling:|Whether the customer has paperless billing or not (Yes, No)|\n",
    "|PaymentMethod:|The customer’s payment method (Electronic check, Mailed check, Bank transfer (automatic), Credit card (automatic))|\n",
    "|MonthlyCharges:|The amount charged to the customer monthly|\n",
    "|TotalCharges:|The total amount charged to the customer|\n",
    "|Churn:|Whether the customer churned or not (Yes or No)|"
   ]
  },
  {
   "cell_type": "code",
   "execution_count": 41,
   "id": "02682902-7c40-42b3-887e-fecf4c78c8ec",
   "metadata": {},
   "outputs": [
    {
     "name": "stdout",
     "output_type": "stream",
     "text": [
      "<class 'pandas.core.frame.DataFrame'>\n",
      "Int64Index: 7032 entries, 0 to 7042\n",
      "Data columns (total 19 columns):\n",
      " #   Column            Non-Null Count  Dtype  \n",
      "---  ------            --------------  -----  \n",
      " 0   gender            7032 non-null   object \n",
      " 1   seniorcitizen     7032 non-null   object \n",
      " 2   partner           7032 non-null   object \n",
      " 3   dependents        7032 non-null   object \n",
      " 4   phoneservice      7032 non-null   object \n",
      " 5   multiplelines     7032 non-null   object \n",
      " 6   internetservice   7032 non-null   object \n",
      " 7   onlinesecurity    7032 non-null   object \n",
      " 8   onlinebackup      7032 non-null   object \n",
      " 9   deviceprotection  7032 non-null   object \n",
      " 10  techsupport       7032 non-null   object \n",
      " 11  streamingtv       7032 non-null   object \n",
      " 12  streamingmovies   7032 non-null   object \n",
      " 13  contract          7032 non-null   object \n",
      " 14  paperlessbilling  7032 non-null   object \n",
      " 15  paymentmethod     7032 non-null   object \n",
      " 16  monthlycharges    7032 non-null   float64\n",
      " 17  totalcharges      7032 non-null   float64\n",
      " 18  churn             7032 non-null   object \n",
      "dtypes: float64(2), object(17)\n",
      "memory usage: 1.1+ MB\n"
     ]
    }
   ],
   "source": [
    "#view data info\n",
    "df2.info()"
   ]
  },
  {
   "cell_type": "markdown",
   "id": "7d4eeda4-dd38-4b6b-85bd-24df95557233",
   "metadata": {},
   "source": [
    "- Data consists of 299 rows and 13 columns\n",
    "- There is 3 float, 6 Object and 10 integer data type"
   ]
  },
  {
   "cell_type": "code",
   "execution_count": 42,
   "id": "b595e4ee-db8d-4a56-b47a-c9faa2568fa1",
   "metadata": {
    "tags": []
   },
   "outputs": [
    {
     "data": {
      "text/html": [
       "<div>\n",
       "<style scoped>\n",
       "    .dataframe tbody tr th:only-of-type {\n",
       "        vertical-align: middle;\n",
       "    }\n",
       "\n",
       "    .dataframe tbody tr th {\n",
       "        vertical-align: top;\n",
       "    }\n",
       "\n",
       "    .dataframe thead th {\n",
       "        text-align: right;\n",
       "    }\n",
       "</style>\n",
       "<table border=\"1\" class=\"dataframe\">\n",
       "  <thead>\n",
       "    <tr style=\"text-align: right;\">\n",
       "      <th></th>\n",
       "      <th>monthlycharges</th>\n",
       "      <th>totalcharges</th>\n",
       "    </tr>\n",
       "  </thead>\n",
       "  <tbody>\n",
       "    <tr>\n",
       "      <th>count</th>\n",
       "      <td>7032.000000</td>\n",
       "      <td>7032.000000</td>\n",
       "    </tr>\n",
       "    <tr>\n",
       "      <th>mean</th>\n",
       "      <td>64.798208</td>\n",
       "      <td>2283.300441</td>\n",
       "    </tr>\n",
       "    <tr>\n",
       "      <th>std</th>\n",
       "      <td>30.085974</td>\n",
       "      <td>2266.771362</td>\n",
       "    </tr>\n",
       "    <tr>\n",
       "      <th>min</th>\n",
       "      <td>18.250000</td>\n",
       "      <td>18.800000</td>\n",
       "    </tr>\n",
       "    <tr>\n",
       "      <th>25%</th>\n",
       "      <td>35.587500</td>\n",
       "      <td>401.450000</td>\n",
       "    </tr>\n",
       "    <tr>\n",
       "      <th>50%</th>\n",
       "      <td>70.350000</td>\n",
       "      <td>1397.475000</td>\n",
       "    </tr>\n",
       "    <tr>\n",
       "      <th>75%</th>\n",
       "      <td>89.862500</td>\n",
       "      <td>3794.737500</td>\n",
       "    </tr>\n",
       "    <tr>\n",
       "      <th>max</th>\n",
       "      <td>118.750000</td>\n",
       "      <td>8684.800000</td>\n",
       "    </tr>\n",
       "  </tbody>\n",
       "</table>\n",
       "</div>"
      ],
      "text/plain": [
       "       monthlycharges  totalcharges\n",
       "count     7032.000000   7032.000000\n",
       "mean        64.798208   2283.300441\n",
       "std         30.085974   2266.771362\n",
       "min         18.250000     18.800000\n",
       "25%         35.587500    401.450000\n",
       "50%         70.350000   1397.475000\n",
       "75%         89.862500   3794.737500\n",
       "max        118.750000   8684.800000"
      ]
     },
     "execution_count": 42,
     "metadata": {},
     "output_type": "execute_result"
    }
   ],
   "source": [
    "#view statistics\n",
    "df2.describe()"
   ]
  },
  {
   "cell_type": "markdown",
   "id": "ffb585e8-494b-4d02-bafa-d6fd95fbca5c",
   "metadata": {},
   "source": [
    "- The mean and median of monthly charges does not differ much.\n",
    "- The range of monthly charges between Q3 to Max Value does not have much range same with Q1 and Min range, meaning there is most likely little or no outliers.\n",
    "\n",
    "- The mean and median of total charges have a large difference. so there is a possibility that this is a skewed distribution.\n",
    "- The range of total charges between Q3 to Max Value have much range meaning there is most likely it is positively skewed."
   ]
  },
  {
   "cell_type": "code",
   "execution_count": 43,
   "id": "71aa7862-3c4b-4b4d-9cab-8a68dc140d4c",
   "metadata": {},
   "outputs": [],
   "source": [
    "#create numerical data names\n",
    "nums=df2.select_dtypes(include=['int64','float64']).columns"
   ]
  },
  {
   "cell_type": "code",
   "execution_count": 44,
   "id": "31d3e08d-8523-41d0-be5c-676cfd866a9e",
   "metadata": {},
   "outputs": [
    {
     "data": {
      "image/png": "[encoded data removed]",
      "text/plain": [
       "<Figure size 1440x1080 with 2 Axes>"
      ]
     },
     "metadata": {
      "needs_background": "light"
     },
     "output_type": "display_data"
    }
   ],
   "source": [
    "#visualize data with box plot\n",
    "plt.figure(figsize=(20, 15))\n",
    "for i in range(0, len(nums)):\n",
    "    plt.subplot(3,4, i+1)\n",
    "    sns.boxplot(y=df2[nums[i]], orient='v')\n",
    "    plt.tight_layout()"
   ]
  },
  {
   "cell_type": "markdown",
   "id": "ecfbacea-e790-4e19-9f27-40bedfa49915",
   "metadata": {},
   "source": [
    "- There are no outliers on the data"
   ]
  },
  {
   "cell_type": "code",
   "execution_count": 45,
   "id": "fab96dd1-f174-4ef6-8637-91b1b134770d",
   "metadata": {},
   "outputs": [
    {
     "name": "stdout",
     "output_type": "stream",
     "text": [
      "Column monthlycharges outliers = 0.00%\n",
      "Column totalcharges outliers = 0.00%\n"
     ]
    }
   ],
   "source": [
    "#took numericaldata type\n",
    "nums2=df2.select_dtypes(include=['int64','float64'])\n",
    "\n",
    "#see outliers for numerical data\n",
    "for k, v in nums2.items():\n",
    "        q1 = v.quantile(0.25)\n",
    "        q3 = v.quantile(0.75)\n",
    "        iqr = q3 - q1\n",
    "        v_col = v[(v <= q1 - 1.5 * iqr) | (v >= q3 + 1.5 * iqr)]\n",
    "        perc = np.shape(v_col)[0] * 100.0 / np.shape(nums2)[0]\n",
    "        print(\"Column %s outliers = %.2f%%\" % (k, perc))"
   ]
  },
  {
   "cell_type": "markdown",
   "id": "b6407c36-c0dd-43db-940f-0fac1f613fac",
   "metadata": {},
   "source": [
    "- There are no outliers on the data"
   ]
  },
  {
   "cell_type": "code",
   "execution_count": 46,
   "id": "9d7954ef-9156-4582-9d93-d4efa14b81fa",
   "metadata": {},
   "outputs": [
    {
     "name": "stderr",
     "output_type": "stream",
     "text": [
      "C:\\Users\\User\\anaconda3\\lib\\site-packages\\seaborn\\distributions.py:2619: FutureWarning: `distplot` is a deprecated function and will be removed in a future version. Please adapt your code to use either `displot` (a figure-level function with similar flexibility) or `histplot` (an axes-level function for histograms).\n",
      "  warnings.warn(msg, FutureWarning)\n",
      "C:\\Users\\User\\anaconda3\\lib\\site-packages\\seaborn\\distributions.py:2619: FutureWarning: `distplot` is a deprecated function and will be removed in a future version. Please adapt your code to use either `displot` (a figure-level function with similar flexibility) or `histplot` (an axes-level function for histograms).\n",
      "  warnings.warn(msg, FutureWarning)\n"
     ]
    },
    {
     "data": {
      "image/png": "[encoded data removed]",
      "text/plain": [
       "<Figure size 1440x720 with 2 Axes>"
      ]
     },
     "metadata": {
      "needs_background": "light"
     },
     "output_type": "display_data"
    }
   ],
   "source": [
    "#visualize data with box plot\n",
    "plt.figure(figsize=(20, 10))\n",
    "for i in range(0, len(nums)):\n",
    "    plt.subplot(2,5, i+1)\n",
    "    sns.distplot(df2[nums[i]])\n",
    "    plt.tight_layout()"
   ]
  },
  {
   "cell_type": "markdown",
   "id": "2fce9cf2-0eee-4656-a3ac-834cc7c95277",
   "metadata": {},
   "source": [
    "- Total Charges is positively skewed\n",
    "- Monthly charges is Bimodal"
   ]
  },
  {
   "cell_type": "code",
   "execution_count": 47,
   "id": "aff953e3-56b6-4194-934f-35874f7d7621",
   "metadata": {},
   "outputs": [
    {
     "data": {
      "image/png": "[encoded data removed]",
      "text/plain": [
       "<Figure size 1440x1080 with 17 Axes>"
      ]
     },
     "metadata": {
      "needs_background": "light"
     },
     "output_type": "display_data"
    }
   ],
   "source": [
    "#create cats columns\n",
    "cats=df2.select_dtypes(object).columns\n",
    "#create countplot\n",
    "plt.figure(figsize=(20, 15));\n",
    "for i in range(0, len(cats)):\n",
    "    plt.subplot(9, 2, i+1);\n",
    "    sns.countplot(x=df2[cats[i]], orient='v');\n",
    "    plt.tight_layout();"
   ]
  },
  {
   "cell_type": "markdown",
   "id": "08e0167e-146b-482c-8d39-9d3e5c085dcc",
   "metadata": {},
   "source": [
    "- The data target (churn) is imbalance\n",
    "- Most of the customers is not a senior citizen,and most of the cust does not have a dependents.\n",
    "- The customers from this data evenly consists of male and female.\n",
    "- The number of customers who have partner and does not have a partner is almost the same.\n",
    "- The customer behaviour is that most of them have a monthly subscription, prefer paperless billing and pays via electronic check\n",
    "- Most of the customer have phoneservice\n",
    "- Most of the customers does not have multiple lines, followed by have multiple lines\n",
    "- Most of the customers have fiber optic internet service and have dsl internet service\n"
   ]
  },
  {
   "cell_type": "code",
   "execution_count": 48,
   "id": "c304a382-39ae-476f-9bb4-d0fcb1589355",
   "metadata": {},
   "outputs": [
    {
     "data": {
      "text/html": [
       "<div>\n",
       "<style scoped>\n",
       "    .dataframe tbody tr th:only-of-type {\n",
       "        vertical-align: middle;\n",
       "    }\n",
       "\n",
       "    .dataframe tbody tr th {\n",
       "        vertical-align: top;\n",
       "    }\n",
       "\n",
       "    .dataframe thead th {\n",
       "        text-align: right;\n",
       "    }\n",
       "</style>\n",
       "<table border=\"1\" class=\"dataframe\">\n",
       "  <thead>\n",
       "    <tr style=\"text-align: right;\">\n",
       "      <th></th>\n",
       "      <th>gender</th>\n",
       "      <th>SeniorCitizen</th>\n",
       "      <th>count</th>\n",
       "    </tr>\n",
       "  </thead>\n",
       "  <tbody>\n",
       "    <tr>\n",
       "      <th>0</th>\n",
       "      <td>Male</td>\n",
       "      <td>0</td>\n",
       "      <td>2975</td>\n",
       "    </tr>\n",
       "    <tr>\n",
       "      <th>1</th>\n",
       "      <td>Female</td>\n",
       "      <td>0</td>\n",
       "      <td>2915</td>\n",
       "    </tr>\n",
       "    <tr>\n",
       "      <th>2</th>\n",
       "      <td>Male</td>\n",
       "      <td>1</td>\n",
       "      <td>574</td>\n",
       "    </tr>\n",
       "    <tr>\n",
       "      <th>3</th>\n",
       "      <td>Female</td>\n",
       "      <td>1</td>\n",
       "      <td>568</td>\n",
       "    </tr>\n",
       "  </tbody>\n",
       "</table>\n",
       "</div>"
      ],
      "text/plain": [
       "   gender  SeniorCitizen  count\n",
       "0    Male              0   2975\n",
       "1  Female              0   2915\n",
       "2    Male              1    574\n",
       "3  Female              1    568"
      ]
     },
     "execution_count": 48,
     "metadata": {},
     "output_type": "execute_result"
    }
   ],
   "source": [
    "#create rain columns\n",
    "dfr=df.groupby(['gender','SeniorCitizen']).count()[['customerID']]\n",
    "dfr=dfr.sort_values('customerID',ascending=False).rename(columns={'customerID':'count'}).reset_index()\n",
    "dfr"
   ]
  },
  {
   "cell_type": "markdown",
   "id": "15efd622-e2b5-43a1-9302-def71b1b737d",
   "metadata": {},
   "source": [
    "- The count of Male and Female of non Senior Citizen is almost the same between Male and Female\n",
    "- The count of Male and Female of Senior Citizen is almost the same between Male and Female"
   ]
  },
  {
   "cell_type": "code",
   "execution_count": 49,
   "id": "c7114ee5-cab3-42ed-848a-c52769841b48",
   "metadata": {},
   "outputs": [
    {
     "data": {
      "text/html": [
       "<div>\n",
       "<style scoped>\n",
       "    .dataframe tbody tr th:only-of-type {\n",
       "        vertical-align: middle;\n",
       "    }\n",
       "\n",
       "    .dataframe tbody tr th {\n",
       "        vertical-align: top;\n",
       "    }\n",
       "\n",
       "    .dataframe thead th {\n",
       "        text-align: right;\n",
       "    }\n",
       "</style>\n",
       "<table border=\"1\" class=\"dataframe\">\n",
       "  <thead>\n",
       "    <tr style=\"text-align: right;\">\n",
       "      <th></th>\n",
       "      <th>OnlineSecurity</th>\n",
       "      <th>Churn</th>\n",
       "      <th>count</th>\n",
       "    </tr>\n",
       "  </thead>\n",
       "  <tbody>\n",
       "    <tr>\n",
       "      <th>0</th>\n",
       "      <td>No</td>\n",
       "      <td>Yes</td>\n",
       "      <td>1461</td>\n",
       "    </tr>\n",
       "    <tr>\n",
       "      <th>1</th>\n",
       "      <td>Yes</td>\n",
       "      <td>Yes</td>\n",
       "      <td>295</td>\n",
       "    </tr>\n",
       "    <tr>\n",
       "      <th>2</th>\n",
       "      <td>No internet service</td>\n",
       "      <td>Yes</td>\n",
       "      <td>113</td>\n",
       "    </tr>\n",
       "    <tr>\n",
       "      <th>3</th>\n",
       "      <td>No</td>\n",
       "      <td>No</td>\n",
       "      <td>2036</td>\n",
       "    </tr>\n",
       "    <tr>\n",
       "      <th>4</th>\n",
       "      <td>Yes</td>\n",
       "      <td>No</td>\n",
       "      <td>1720</td>\n",
       "    </tr>\n",
       "    <tr>\n",
       "      <th>5</th>\n",
       "      <td>No internet service</td>\n",
       "      <td>No</td>\n",
       "      <td>1407</td>\n",
       "    </tr>\n",
       "  </tbody>\n",
       "</table>\n",
       "</div>"
      ],
      "text/plain": [
       "        OnlineSecurity Churn  count\n",
       "0                   No   Yes   1461\n",
       "1                  Yes   Yes    295\n",
       "2  No internet service   Yes    113\n",
       "3                   No    No   2036\n",
       "4                  Yes    No   1720\n",
       "5  No internet service    No   1407"
      ]
     },
     "execution_count": 49,
     "metadata": {},
     "output_type": "execute_result"
    }
   ],
   "source": [
    "#create rain columns\n",
    "dfr=df.groupby(['OnlineSecurity','Churn']).count()[['customerID']]\n",
    "dfr=dfr.sort_values(['Churn','customerID'],ascending=False).rename(columns={'customerID':'count'}).reset_index()\n",
    "dfr"
   ]
  },
  {
   "cell_type": "markdown",
   "id": "f2878b31-7059-4965-9960-e5c724506f9f",
   "metadata": {},
   "source": [
    "- The customers that churn mostly does not have Online Security\n",
    "- The second category that churns have an online security, but only few of them churns"
   ]
  },
  {
   "cell_type": "code",
   "execution_count": 50,
   "id": "6a083db5-97f5-464c-9051-40ef6ecd4013",
   "metadata": {},
   "outputs": [
    {
     "data": {
      "text/html": [
       "<div>\n",
       "<style scoped>\n",
       "    .dataframe tbody tr th:only-of-type {\n",
       "        vertical-align: middle;\n",
       "    }\n",
       "\n",
       "    .dataframe tbody tr th {\n",
       "        vertical-align: top;\n",
       "    }\n",
       "\n",
       "    .dataframe thead th {\n",
       "        text-align: right;\n",
       "    }\n",
       "</style>\n",
       "<table border=\"1\" class=\"dataframe\">\n",
       "  <thead>\n",
       "    <tr style=\"text-align: right;\">\n",
       "      <th></th>\n",
       "      <th>Contract</th>\n",
       "      <th>Churn</th>\n",
       "      <th>count</th>\n",
       "    </tr>\n",
       "  </thead>\n",
       "  <tbody>\n",
       "    <tr>\n",
       "      <th>0</th>\n",
       "      <td>Month-to-month</td>\n",
       "      <td>Yes</td>\n",
       "      <td>1655</td>\n",
       "    </tr>\n",
       "    <tr>\n",
       "      <th>1</th>\n",
       "      <td>One year</td>\n",
       "      <td>Yes</td>\n",
       "      <td>166</td>\n",
       "    </tr>\n",
       "    <tr>\n",
       "      <th>2</th>\n",
       "      <td>Two year</td>\n",
       "      <td>Yes</td>\n",
       "      <td>48</td>\n",
       "    </tr>\n",
       "    <tr>\n",
       "      <th>3</th>\n",
       "      <td>Month-to-month</td>\n",
       "      <td>No</td>\n",
       "      <td>2220</td>\n",
       "    </tr>\n",
       "    <tr>\n",
       "      <th>4</th>\n",
       "      <td>Two year</td>\n",
       "      <td>No</td>\n",
       "      <td>1637</td>\n",
       "    </tr>\n",
       "    <tr>\n",
       "      <th>5</th>\n",
       "      <td>One year</td>\n",
       "      <td>No</td>\n",
       "      <td>1306</td>\n",
       "    </tr>\n",
       "  </tbody>\n",
       "</table>\n",
       "</div>"
      ],
      "text/plain": [
       "         Contract Churn  count\n",
       "0  Month-to-month   Yes   1655\n",
       "1        One year   Yes    166\n",
       "2        Two year   Yes     48\n",
       "3  Month-to-month    No   2220\n",
       "4        Two year    No   1637\n",
       "5        One year    No   1306"
      ]
     },
     "execution_count": 50,
     "metadata": {},
     "output_type": "execute_result"
    }
   ],
   "source": [
    "#create rain columns\n",
    "dfr=df.groupby(['Contract','Churn']).count()[['customerID']]\n",
    "dfr=dfr.sort_values(['Churn','customerID'],ascending=False).rename(columns={'customerID':'count'}).reset_index()\n",
    "dfr"
   ]
  },
  {
   "cell_type": "markdown",
   "id": "d1ce2df2-22b9-4578-b725-edfd8ab5c5c3",
   "metadata": {},
   "source": [
    "- The customers that churn mostly on an Month to month contract\n",
    "- The second category that churns have an online security, but only few of them churns"
   ]
  },
  {
   "cell_type": "code",
   "execution_count": 51,
   "id": "94b2c482-7891-4249-89e9-8910556608e4",
   "metadata": {},
   "outputs": [
    {
     "data": {
      "image/png": "[encoded data removed]",
      "text/plain": [
       "<Figure size 1152x360 with 1 Axes>"
      ]
     },
     "metadata": {
      "needs_background": "light"
     },
     "output_type": "display_data"
    }
   ],
   "source": [
    "#view clusters based on overall life expectancy\n",
    "plt.figure(figsize=(16,5))\n",
    "plt.title(f'Total Charges by Churn customers')\n",
    "ax = sns.boxplot(data=df, x='Churn', y='TotalCharges', showfliers=False)\n",
    "plt.show()"
   ]
  },
  {
   "cell_type": "markdown",
   "id": "88e5c135-7174-4fd9-bd1d-072f132a4bdf",
   "metadata": {},
   "source": [
    "- The Total charges range from churn customers is larger than Total Charges from customers that did not churn "
   ]
  },
  {
   "cell_type": "code",
   "execution_count": 52,
   "id": "5b943de1-37fb-45c6-87e2-04fdc7607875",
   "metadata": {},
   "outputs": [
    {
     "data": {
      "image/png": "[encoded data removed]",
      "text/plain": [
       "<Figure size 1152x360 with 1 Axes>"
      ]
     },
     "metadata": {
      "needs_background": "light"
     },
     "output_type": "display_data"
    }
   ],
   "source": [
    "#view clusters based on overall life expectancy\n",
    "plt.figure(figsize=(16,5))\n",
    "plt.title(f'Total Charges by Churn customers')\n",
    "ax = sns.boxplot(data=df, x='Churn', y='MonthlyCharges', showfliers=False)\n",
    "plt.show()"
   ]
  },
  {
   "cell_type": "markdown",
   "id": "2675aebf-768e-4048-bd58-0a833b064ad1",
   "metadata": {},
   "source": [
    "- The Monthly charges range from churn customers is larger than the Monthly Charges from customers that did not churn.\n",
    "- This maybe the cause people are churning.\n"
   ]
  },
  {
   "cell_type": "markdown",
   "id": "29d79d75-5b67-466d-a441-171d2c43f4a4",
   "metadata": {},
   "source": [
    "### Data Exploration Summary:"
   ]
  },
  {
   "cell_type": "markdown",
   "id": "cc3ebb9e-5519-42b1-82ca-ac53d9396226",
   "metadata": {},
   "source": [
    "- The Numerical data does not have an outliers\n",
    "- The customers that churns mostly came from thoose who have monthly contract and does not have online security\n",
    "- Both the two numerical features have a skewed distribution"
   ]
  },
  {
   "cell_type": "markdown",
   "id": "cd741c92-758c-4b33-9b66-e56fb9ae0a74",
   "metadata": {
    "tags": []
   },
   "source": [
    "# 6. Data Preprocessing"
   ]
  },
  {
   "cell_type": "code",
   "execution_count": 53,
   "id": "3c6970d7-2b4b-4ecb-8bce-f1ae5ccbb53c",
   "metadata": {},
   "outputs": [],
   "source": [
    "#label encoding\n",
    "df3=df2.copy()\n",
    "columns2=df3.select_dtypes(['object']).columns\n",
    "lb=LabelEncoder()\n",
    "for i in columns2:\n",
    "    df3[i]=lb.fit_transform(df3[i])"
   ]
  },
  {
   "cell_type": "code",
   "execution_count": 54,
   "id": "055a563e-4a5d-4db3-9fc8-362c9668e5d0",
   "metadata": {},
   "outputs": [],
   "source": [
    "#shuffle data\n",
    "df3a=df3.sample(frac=1).reset_index(drop=True)"
   ]
  },
  {
   "cell_type": "code",
   "execution_count": 55,
   "id": "95c408f1-4c7c-40f5-b41a-7045402a4979",
   "metadata": {},
   "outputs": [],
   "source": [
    "#drop and take target features\n",
    "target=df3a.pop('churn')"
   ]
  },
  {
   "cell_type": "code",
   "execution_count": 56,
   "id": "70e5365c-409b-49ee-a00d-c93f29524a74",
   "metadata": {},
   "outputs": [],
   "source": [
    "#split data\n",
    "xtrain,xtemp,ytrain,ytemp =train_test_split(df3a,target,train_size=0.8, random_state=37,stratify=target)\n",
    "xvalid,xtest,yvalid,ytest=train_test_split(xtemp,ytemp,train_size=0.5,random_state=37)"
   ]
  },
  {
   "cell_type": "code",
   "execution_count": 57,
   "id": "b1af1cb4-05bf-4dbe-9b7a-1d1d633128ef",
   "metadata": {},
   "outputs": [],
   "source": [
    "#create pipeline\n",
    "xtrain=tf.convert_to_tensor(xtrain)\n",
    "#create pipeline\n",
    "xtest=tf.convert_to_tensor(xtest)\n",
    "#create pipeline\n",
    "xvalid=tf.convert_to_tensor(xvalid)"
   ]
  },
  {
   "cell_type": "code",
   "execution_count": 58,
   "id": "2bbc4208-a55f-4b25-a720-a81be352a44a",
   "metadata": {},
   "outputs": [],
   "source": [
    "#normalization\n",
    "normalizer = tf.keras.layers.Normalization(axis=-1)\n",
    "normalizer.adapt(xtrain)"
   ]
  },
  {
   "cell_type": "markdown",
   "id": "0acffe31-5ecc-40b9-9a09-bc8f75b094b1",
   "metadata": {},
   "source": [
    "# 7. Define Model"
   ]
  },
  {
   "cell_type": "markdown",
   "id": "b6e5fed9-6fae-4109-ae73-e2d86418a19c",
   "metadata": {},
   "source": [
    "- The main metrics on this model will be recall, because we dont want a customer that predicted will not churn, is actually churning (False Negative)\n",
    "- We will ignore accuracy, because the dataset target data is quite imbalanced"
   ]
  },
  {
   "cell_type": "markdown",
   "id": "f24858c6-524f-43ac-902c-95f8adb9d74f",
   "metadata": {},
   "source": [
    "## Sequential API"
   ]
  },
  {
   "cell_type": "code",
   "execution_count": 60,
   "id": "4bc66a52-d793-4070-ae07-4f553d33858b",
   "metadata": {},
   "outputs": [],
   "source": [
    "#define model\n",
    "np.random.seed(42)\n",
    "tf.random.set_seed(42)\n",
    "modelseq=Sequential()\n",
    "#1\n",
    "modelseq.add(Dense(100, input_dim=18, activation='relu'))\n",
    "#2\n",
    "modelseq.add(Dense(90, activation='relu',kernel_initializer=keras.initializers.GlorotNormal(seed=123)))\n",
    "#3\n",
    "modelseq.add(Dense(80, activation='relu',kernel_initializer=keras.initializers.GlorotNormal(seed=123)))\n",
    "#4\n",
    "modelseq.add(Dense(70, activation='relu',kernel_initializer=keras.initializers.GlorotNormal(seed=123)))\n",
    "#5\n",
    "modelseq.add(Dense(60, activation='relu',kernel_initializer=keras.initializers.GlorotNormal(seed=123)))\n",
    "#6\n",
    "modelseq.add(Dense(50, activation='relu',kernel_initializer=keras.initializers.GlorotNormal(seed=123)))\n",
    "#7\n",
    "modelseq.add(Dense(40, activation='relu',kernel_initializer=keras.initializers.GlorotNormal(seed=123)))\n",
    "#8\n",
    "modelseq.add(Dense(30, activation='relu',kernel_initializer=keras.initializers.GlorotNormal(seed=123)))\n",
    "#9\n",
    "modelseq.add(Dense(20, activation='relu',kernel_initializer=keras.initializers.GlorotNormal(seed=123)))\n",
    "#10\n",
    "modelseq.add(Dense(10, activation='relu',kernel_initializer=keras.initializers.GlorotNormal(seed=123)))\n",
    "#11\n",
    "modelseq.add(Dense(1,activation='sigmoid',kernel_initializer=keras.initializers.GlorotNormal(seed=123)))\n",
    "\n",
    "modelseq.compile(loss='binary_crossentropy',optimizer='adam',metrics=['Accuracy','Recall','Precision'])"
   ]
  },
  {
   "cell_type": "markdown",
   "id": "a4d50553-2b83-4f4c-9199-1219fa8980a2",
   "metadata": {},
   "source": [
    "- 9 Hidden layers with nodes starting from 100 was created"
   ]
  },
  {
   "cell_type": "code",
   "execution_count": 35,
   "id": "114fc1a1-6e27-4861-bd95-60a75e43e21f",
   "metadata": {},
   "outputs": [
    {
     "name": "stdout",
     "output_type": "stream",
     "text": [
      "Model: \"sequential\"\n",
      "_________________________________________________________________\n",
      " Layer (type)                Output Shape              Param #   \n",
      "=================================================================\n",
      " dense (Dense)               (None, 100)               1900      \n",
      "                                                                 \n",
      " dense_1 (Dense)             (None, 90)                9090      \n",
      "                                                                 \n",
      " dense_2 (Dense)             (None, 80)                7280      \n",
      "                                                                 \n",
      " dense_3 (Dense)             (None, 70)                5670      \n",
      "                                                                 \n",
      " dense_4 (Dense)             (None, 60)                4260      \n",
      "                                                                 \n",
      " dense_5 (Dense)             (None, 50)                3050      \n",
      "                                                                 \n",
      " dense_6 (Dense)             (None, 40)                2040      \n",
      "                                                                 \n",
      " dense_7 (Dense)             (None, 30)                1230      \n",
      "                                                                 \n",
      " dense_8 (Dense)             (None, 20)                620       \n",
      "                                                                 \n",
      " dense_9 (Dense)             (None, 10)                210       \n",
      "                                                                 \n",
      " dense_10 (Dense)            (None, 1)                 11        \n",
      "                                                                 \n",
      "=================================================================\n",
      "Total params: 35,361\n",
      "Trainable params: 35,361\n",
      "Non-trainable params: 0\n",
      "_________________________________________________________________\n"
     ]
    }
   ],
   "source": [
    "#model summary\n",
    "modelseq.summary()"
   ]
  },
  {
   "cell_type": "markdown",
   "id": "5847d4e3-3101-4907-b540-30710a2f678e",
   "metadata": {},
   "source": [
    "## Functional API"
   ]
  },
  {
   "cell_type": "code",
   "execution_count": 64,
   "id": "2ac73abd-a6d5-4279-b07d-4cdad0498852",
   "metadata": {},
   "outputs": [],
   "source": [
    "#create functional API\n",
    "np.random.seed(42)\n",
    "tf.random.set_seed(42)\n",
    "\n",
    "input_ = keras.layers.Input(shape=xtrain.shape[1:])\n",
    "hidden1 = keras.layers.Dense(20, activation=\"relu\")(input_)\n",
    "hidden2 = keras.layers.Dense(10, activation=\"relu\")(hidden1)\n",
    "hidden3 = keras.layers.Dense(5, activation=\"relu\")(hidden2)\n",
    "hidden4 = keras.layers.Dense(1, activation=\"relu\")(hidden3)\n",
    "concat = keras.layers.concatenate([input_, hidden4])\n",
    "output = keras.layers.Dense(1,activation='sigmoid')(concat)\n",
    "modelfun = keras.models.Model(inputs=[input_], outputs=[output])\n",
    "\n",
    "modelfun.compile(loss='binary_crossentropy',optimizer='sgd',metrics=['Accuracy','Recall','Precision'])"
   ]
  },
  {
   "cell_type": "markdown",
   "id": "d495ccb5-a4a4-499f-8cff-32e4d5f7abb9",
   "metadata": {},
   "source": [
    "- $ Hidden layers with nodes starting from 100 was created"
   ]
  },
  {
   "cell_type": "code",
   "execution_count": 37,
   "id": "266718db-079c-489b-a2a3-34262b0f0623",
   "metadata": {},
   "outputs": [
    {
     "name": "stdout",
     "output_type": "stream",
     "text": [
      "Model: \"model\"\n",
      "__________________________________________________________________________________________________\n",
      " Layer (type)                   Output Shape         Param #     Connected to                     \n",
      "==================================================================================================\n",
      " input_1 (InputLayer)           [(None, 18)]         0           []                               \n",
      "                                                                                                  \n",
      " dense_11 (Dense)               (None, 20)           380         ['input_1[0][0]']                \n",
      "                                                                                                  \n",
      " dense_12 (Dense)               (None, 10)           210         ['dense_11[0][0]']               \n",
      "                                                                                                  \n",
      " dense_13 (Dense)               (None, 5)            55          ['dense_12[0][0]']               \n",
      "                                                                                                  \n",
      " dense_14 (Dense)               (None, 1)            6           ['dense_13[0][0]']               \n",
      "                                                                                                  \n",
      " concatenate (Concatenate)      (None, 19)           0           ['input_1[0][0]',                \n",
      "                                                                  'dense_14[0][0]']               \n",
      "                                                                                                  \n",
      " dense_15 (Dense)               (None, 1)            20          ['concatenate[0][0]']            \n",
      "                                                                                                  \n",
      "==================================================================================================\n",
      "Total params: 671\n",
      "Trainable params: 671\n",
      "Non-trainable params: 0\n",
      "__________________________________________________________________________________________________\n"
     ]
    }
   ],
   "source": [
    "#model summary\n",
    "modelfun.summary()"
   ]
  },
  {
   "cell_type": "markdown",
   "id": "4f40da7b-570c-478c-b3d3-96c88af095e2",
   "metadata": {},
   "source": [
    "# 8. Train Model"
   ]
  },
  {
   "cell_type": "markdown",
   "id": "8c3ddb0a-bda9-4b18-ba6d-9f77503dbf92",
   "metadata": {},
   "source": [
    "## Sequential API"
   ]
  },
  {
   "cell_type": "code",
   "execution_count": 62,
   "id": "6151f0d5-d8b7-48b8-824e-610883175367",
   "metadata": {},
   "outputs": [],
   "source": [
    "#fitting training data to sequential API\n",
    "history=modelseq.fit(xtrain,ytrain,epochs=30,validation_data=[xvalid,yvalid],batch_size=5,verbose=0)"
   ]
  },
  {
   "cell_type": "markdown",
   "id": "b211020c-1c2a-4561-a93b-1829a2d700bb",
   "metadata": {},
   "source": [
    "## Functional API"
   ]
  },
  {
   "cell_type": "code",
   "execution_count": 65,
   "id": "e6f14381-a505-443a-ab0a-a8a510c86e07",
   "metadata": {
    "tags": []
   },
   "outputs": [],
   "source": [
    "#fitting training data to functional API\n",
    "history2=modelfun.fit(xtrain,ytrain,epochs=30,validation_data=[xvalid,yvalid],batch_size=5,verbose=0)"
   ]
  },
  {
   "cell_type": "markdown",
   "id": "01f2d5f1-6659-45a8-89b9-814c95cfa860",
   "metadata": {},
   "source": [
    "# 9. Evaluate Model"
   ]
  },
  {
   "cell_type": "markdown",
   "id": "7bd04bc7-68a1-4e63-8ea0-9107ca7c7493",
   "metadata": {},
   "source": [
    "- On This model, i will focus on the Recall value, because we dont want a False Negative value\n",
    "- False Negative means that customers that supposed to be Churning was predicted as not Churning"
   ]
  },
  {
   "cell_type": "markdown",
   "id": "f59ae0b0-9555-4f3e-b0fa-0789ac11d8bf",
   "metadata": {},
   "source": [
    "## Sequential Model"
   ]
  },
  {
   "cell_type": "code",
   "execution_count": 40,
   "id": "4a23b179-70c1-4233-b0f3-801218404823",
   "metadata": {},
   "outputs": [
    {
     "name": "stdout",
     "output_type": "stream",
     "text": [
      "              precision    recall  f1-score   support\n",
      "\n",
      "           0       0.84      0.88      0.86       522\n",
      "           1       0.60      0.53      0.57       182\n",
      "\n",
      "    accuracy                           0.79       704\n",
      "   macro avg       0.72      0.71      0.71       704\n",
      "weighted avg       0.78      0.79      0.78       704\n",
      "\n"
     ]
    }
   ],
   "source": [
    "#predict and eval model\n",
    "ypred = modelseq.predict(xtest)\n",
    "\n",
    "thres = 0.5\n",
    "res = (ypred > thres).T\n",
    "res2 = res.astype(int)[0]\n",
    "\n",
    "data=ypred.tolist()\n",
    "\n",
    "print(classification_report(ytest, res2))"
   ]
  },
  {
   "cell_type": "markdown",
   "id": "8cdf392e-4b0e-430a-be66-6282c585b7db",
   "metadata": {},
   "source": [
    "- The recall on this model is quite low (0.49), this is bad, because this means that there is a lot of false negatives on the model"
   ]
  },
  {
   "cell_type": "code",
   "execution_count": 41,
   "id": "3abcd405-1ac4-4809-b74f-d90837c93455",
   "metadata": {},
   "outputs": [
    {
     "data": {
      "image/png": "[encoded data removed]",
      "text/plain": [
       "<Figure size 576x360 with 1 Axes>"
      ]
     },
     "metadata": {
      "needs_background": "light"
     },
     "output_type": "display_data"
    },
    {
     "data": {
      "image/png": "[encoded data removed]",
      "text/plain": [
       "<Figure size 576x360 with 1 Axes>"
      ]
     },
     "metadata": {
      "needs_background": "light"
     },
     "output_type": "display_data"
    }
   ],
   "source": [
    "# visualize the chart\n",
    "pd.DataFrame(list(zip(history.history['loss'],history.history['val_loss'])),\n",
    "               columns =['loss', 'val_loss']).plot(figsize=(8, 5))\n",
    "plt.grid(True)\n",
    "plt.gca().set_ylim(0, 1)\n",
    "\n",
    "pd.DataFrame(list(zip(history.history['recall'],history.history['val_recall'])),\n",
    "               columns =['Recall', 'val_Recall']).plot(figsize=(8, 5))\n",
    "plt.grid(True)\n",
    "plt.gca().set_ylim(0, 1)\n",
    "plt.show()"
   ]
  },
  {
   "cell_type": "markdown",
   "id": "82f0b9b3-959c-493c-b736-a2b687cfb780",
   "metadata": {},
   "source": [
    "<b>Loss</b>:\n",
    "\n",
    "- The loss on this model is between the range 0.4 - 0.6\n",
    "- Even though the validity loss is fluctuative, the up and downs is not big, and tend shape convergent with the train loss data\n",
    "\n",
    "<b>Recall</b>:\n",
    "\n",
    "- The Recall on this model is between the range 0.0 - 0.6\n",
    "- The validity recall is highly fluctuative compared to train data recall.\n",
    "- At the end of the graph, the shapes started to shape convergent, but the value is still low"
   ]
  },
  {
   "cell_type": "markdown",
   "id": "2c1f28ad-a830-43c0-b816-6d38aed4e9ea",
   "metadata": {},
   "source": [
    "## Functional Model"
   ]
  },
  {
   "cell_type": "code",
   "execution_count": 42,
   "id": "01481c6b-c594-4fe1-8275-bea17c543c57",
   "metadata": {},
   "outputs": [
    {
     "name": "stdout",
     "output_type": "stream",
     "text": [
      "              precision    recall  f1-score   support\n",
      "\n",
      "           0       0.00      0.00      0.00       522\n",
      "           1       0.26      1.00      0.41       182\n",
      "\n",
      "    accuracy                           0.26       704\n",
      "   macro avg       0.13      0.50      0.21       704\n",
      "weighted avg       0.07      0.26      0.11       704\n",
      "\n"
     ]
    },
    {
     "name": "stderr",
     "output_type": "stream",
     "text": [
      "C:\\Users\\User\\anaconda3\\lib\\site-packages\\sklearn\\metrics\\_classification.py:1248: UndefinedMetricWarning: Precision and F-score are ill-defined and being set to 0.0 in labels with no predicted samples. Use `zero_division` parameter to control this behavior.\n",
      "  _warn_prf(average, modifier, msg_start, len(result))\n",
      "C:\\Users\\User\\anaconda3\\lib\\site-packages\\sklearn\\metrics\\_classification.py:1248: UndefinedMetricWarning: Precision and F-score are ill-defined and being set to 0.0 in labels with no predicted samples. Use `zero_division` parameter to control this behavior.\n",
      "  _warn_prf(average, modifier, msg_start, len(result))\n",
      "C:\\Users\\User\\anaconda3\\lib\\site-packages\\sklearn\\metrics\\_classification.py:1248: UndefinedMetricWarning: Precision and F-score are ill-defined and being set to 0.0 in labels with no predicted samples. Use `zero_division` parameter to control this behavior.\n",
      "  _warn_prf(average, modifier, msg_start, len(result))\n"
     ]
    }
   ],
   "source": [
    "#predict and eval model\n",
    "ypred = modelfun.predict(xtest)\n",
    "\n",
    "thres = 0.5\n",
    "res = (ypred > thres).T\n",
    "res2 = res.astype(int)[0]\n",
    "\n",
    "data=ypred.tolist()\n",
    "\n",
    "print(classification_report(ytest, res2))"
   ]
  },
  {
   "cell_type": "markdown",
   "id": "79a4db3f-57e8-4eb4-ae5a-1c2b855ca084",
   "metadata": {},
   "source": [
    "- The recall on this model is almost close to 0, meaning theres a lot of False Negatives on this data\n",
    "- This score is lower than the sequential API model"
   ]
  },
  {
   "cell_type": "code",
   "execution_count": 43,
   "id": "c1e3ac3f-f6b8-4837-8cad-a7ae6e2ead28",
   "metadata": {},
   "outputs": [
    {
     "data": {
      "image/png": "[encoded data removed]",
      "text/plain": [
       "<Figure size 576x360 with 1 Axes>"
      ]
     },
     "metadata": {
      "needs_background": "light"
     },
     "output_type": "display_data"
    },
    {
     "data": {
      "image/png": "[encoded data removed]",
      "text/plain": [
       "<Figure size 576x360 with 1 Axes>"
      ]
     },
     "metadata": {
      "needs_background": "light"
     },
     "output_type": "display_data"
    }
   ],
   "source": [
    "#view chart\n",
    "pd.DataFrame(list(zip(history2.history['loss'],history2.history['val_loss'])),\n",
    "               columns =['loss', 'val_loss']).plot(figsize=(8, 5))\n",
    "plt.grid(True)\n",
    "plt.gca().set_ylim(0, 1)\n",
    "\n",
    "\n",
    "pd.DataFrame(list(zip(history2.history['recall'],history2.history['val_recall'])),\n",
    "               columns =['Recall', 'val_Recall']).plot(figsize=(8, 5))\n",
    "plt.grid(True)\n",
    "plt.gca().set_ylim(0, 1)\n",
    "plt.show()"
   ]
  },
  {
   "cell_type": "markdown",
   "id": "4b981143-3285-42df-8f7e-11a4c5506413",
   "metadata": {},
   "source": [
    "<b>Loss</b>:\n",
    "\n",
    "- The loss on this model does not appear on the graph, i myself does not understand why this phenomenon occurs.\n",
    "\n",
    "<b>Recall</b>:\n",
    "\n",
    "- The Recall on this model is between the range 0.2 - 1\n",
    "- The validity recall is highly fluctuative compared to train data recall.\n",
    "- At the end of the graph, the shape does not form a convergent pattern, and the value is still low"
   ]
  },
  {
   "cell_type": "markdown",
   "id": "b5c30c83-0386-4bfc-a3aa-57cbc76f475b",
   "metadata": {},
   "source": [
    "## Summary"
   ]
  },
  {
   "cell_type": "markdown",
   "id": "9630992e-2c40-4024-813b-a6a3fb352556",
   "metadata": {},
   "source": [
    "- The Sequential Model is better because have a higher recall\n",
    "- However,i will try to improve both models"
   ]
  },
  {
   "cell_type": "markdown",
   "id": "245eae0e-e8c1-4842-98d1-f8798b36b375",
   "metadata": {
    "tags": []
   },
   "source": [
    "# 10. Model Saving"
   ]
  },
  {
   "cell_type": "markdown",
   "id": "341a86d3-e0c9-49f8-9ee4-89d4056f8e0d",
   "metadata": {},
   "source": [
    "- Save only the best model to json"
   ]
  },
  {
   "cell_type": "raw",
   "id": "3c0b7f8d-a775-4d14-b0a3-7b35ac60ba77",
   "metadata": {},
   "source": [
    "model = modelseq\n",
    "\n",
    "# Train the model.\n",
    "test_input = np.random.random((18))\n",
    "test_target = np.random.random((1))\n",
    "model.fit(test_input, test_target)\n",
    "\n",
    "# Calling `save('my_model')` creates a SavedModel folder `my_model`.\n",
    "model.save(\"my_model\")\n",
    "\n",
    "# It can be used to reconstruct the model identically.\n",
    "reconstructed_model = keras.models.load_model(\"my_model\")\n",
    "\n",
    "# Let's check:\n",
    "np.testing.assert_allclose(\n",
    "    model.predict(test_input), reconstructed_model.predict(test_input)\n",
    ")\n",
    "\n",
    "# The reconstructed model is already compiled and has retained the optimizer\n",
    "# state, so training can resume:\n",
    "reconstructed_model.fit(test_input, test_target)"
   ]
  },
  {
   "cell_type": "raw",
   "id": "c4d6419c-0256-4b8c-beb7-e4d65ca6711d",
   "metadata": {},
   "source": [
    "fmc=ModelCheckpoint(\"model/modelseq.h5\", save_best_only=True)"
   ]
  },
  {
   "cell_type": "raw",
   "id": "63eb7058-a728-4cd8-acb5-9545a12595d1",
   "metadata": {},
   "source": [
    "#importmodel\n",
    "model_json = modelseq.to_json()\n",
    "with open(\"modelseq\", \"w\") as json_file:\n",
    "    json_file.write(model_json)"
   ]
  },
  {
   "cell_type": "raw",
   "id": "106e389a-1fae-44b7-bef2-7a15bef1241d",
   "metadata": {},
   "source": [
    "improve_fm = keras.models.load_model(\"model/improve_functional_model.h5\")"
   ]
  },
  {
   "cell_type": "markdown",
   "id": "6f28966a-9697-4fd2-9a99-d0c1f67af734",
   "metadata": {},
   "source": [
    "# 11. Model Improvement"
   ]
  },
  {
   "cell_type": "markdown",
   "id": "c3732ffa-e9cd-4f66-9318-ec130a155eeb",
   "metadata": {},
   "source": [
    "- I will try to add batch normalization to Sequential and Functional Model"
   ]
  },
  {
   "cell_type": "markdown",
   "id": "109e85a1-c72c-4c86-8f9d-223d6eb785e7",
   "metadata": {},
   "source": [
    "## Sequential Model"
   ]
  },
  {
   "cell_type": "code",
   "execution_count": 44,
   "id": "e70ad1f6-b1c3-421e-a2c5-81832ae4d9d7",
   "metadata": {},
   "outputs": [],
   "source": [
    "#define sequential model\n",
    "np.random.seed(42)\n",
    "tf.random.set_seed(42)\n",
    "modelseq2=Sequential()\n",
    "#1\n",
    "modelseq2.add(Dense(100, input_dim=18, activation='relu'))\n",
    "#2\n",
    "modelseq2.add(Dense(90, activation='relu',kernel_initializer=keras.initializers.GlorotNormal(seed=123)))\n",
    "modelseq2.add(keras.layers.BatchNormalization())\n",
    "#3\n",
    "modelseq2.add(Dense(80, activation='relu',kernel_initializer=keras.initializers.GlorotNormal(seed=123)))\n",
    "modelseq2.add(keras.layers.BatchNormalization())\n",
    "#4\n",
    "modelseq2.add(Dense(70, activation='relu',kernel_initializer=keras.initializers.GlorotNormal(seed=123)))\n",
    "modelseq2.add(keras.layers.BatchNormalization())\n",
    "#5\n",
    "modelseq2.add(Dense(60, activation='relu',kernel_initializer=keras.initializers.GlorotNormal(seed=123)))\n",
    "modelseq2.add(keras.layers.BatchNormalization())\n",
    "#6\n",
    "modelseq2.add(Dense(50, activation='relu',kernel_initializer=keras.initializers.GlorotNormal(seed=123)))\n",
    "modelseq2.add(keras.layers.BatchNormalization())\n",
    "#7\n",
    "modelseq2.add(Dense(40, activation='relu',kernel_initializer=keras.initializers.GlorotNormal(seed=123)))\n",
    "modelseq2.add(keras.layers.BatchNormalization())\n",
    "#8\n",
    "modelseq2.add(Dense(30, activation='relu',kernel_initializer=keras.initializers.GlorotNormal(seed=123)))\n",
    "modelseq2.add(keras.layers.BatchNormalization())\n",
    "#9\n",
    "modelseq2.add(Dense(20, activation='relu',kernel_initializer=keras.initializers.GlorotNormal(seed=123)))\n",
    "modelseq2.add(keras.layers.BatchNormalization())\n",
    "#10\n",
    "modelseq2.add(Dense(10, activation='relu',kernel_initializer=keras.initializers.GlorotNormal(seed=123)))\n",
    "modelseq2.add(keras.layers.BatchNormalization())\n",
    "#11\n",
    "modelseq2.add(Dense(1,activation='sigmoid',kernel_initializer=keras.initializers.GlorotNormal(seed=123)))\n",
    "modelseq2.add(keras.layers.BatchNormalization())\n",
    "\n",
    "modelseq2.compile(loss='binary_crossentropy',optimizer='adam',metrics=['Accuracy','Recall','Precision'])"
   ]
  },
  {
   "cell_type": "code",
   "execution_count": 45,
   "id": "c3396534-97ba-4c6a-8a47-f5c7c8b03c54",
   "metadata": {},
   "outputs": [],
   "source": [
    "#create functional API\n",
    "np.random.seed(42)\n",
    "tf.random.set_seed(42)\n",
    "\n",
    "input_ = keras.layers.Input(shape=xtrain.shape[1:])\n",
    "hidden1 = keras.layers.Dense(20, activation=\"relu\")(input_)\n",
    "batchnorm1 = tf.keras.layers.BatchNormalization() (hidden1)\n",
    "hidden2 = keras.layers.Dense(10, activation=\"relu\")(batchnorm1)\n",
    "batchnorm2 = tf.keras.layers.BatchNormalization() (hidden2)\n",
    "hidden3 = keras.layers.Dense(5, activation=\"relu\")(hidden2)\n",
    "batchnorm3 = tf.keras.layers.BatchNormalization() (hidden3)\n",
    "hidden4 = keras.layers.Dense(1, activation=\"relu\")(hidden3)\n",
    "batchnorm4 = tf.keras.layers.BatchNormalization() (hidden4)\n",
    "concat = keras.layers.concatenate([input_, hidden4])\n",
    "batchnorm5 = tf.keras.layers.BatchNormalization() (concat)\n",
    "output = keras.layers.Dense(1,activation='sigmoid')(batchnorm5)\n",
    "modelfun2 = keras.models.Model(inputs=[input_], outputs=[output])\n",
    "\n",
    "modelfun2.compile(loss='binary_crossentropy',optimizer='sgd',metrics=['Accuracy','Recall','Precision'])"
   ]
  },
  {
   "cell_type": "markdown",
   "id": "6a6447bb-c4b7-4e8e-aa58-0885e3cc9d11",
   "metadata": {
    "tags": []
   },
   "source": [
    "# 12. Model Inference (with Model Improvement)"
   ]
  },
  {
   "cell_type": "markdown",
   "id": "6eb19974-30f1-49e4-8866-9dd63dfc54e4",
   "metadata": {},
   "source": [
    "## Sequential model"
   ]
  },
  {
   "cell_type": "code",
   "execution_count": 46,
   "id": "f483ff24-a4f6-41d3-a26b-d63deae6e67b",
   "metadata": {},
   "outputs": [
    {
     "data": {
      "text/plain": [
       "array([[0.97],\n",
       "       [1.  ],\n",
       "       [0.83],\n",
       "       [0.56],\n",
       "       [0.94],\n",
       "       [0.86],\n",
       "       [0.84],\n",
       "       [1.  ],\n",
       "       [1.  ],\n",
       "       [0.86]], dtype=float32)"
      ]
     },
     "execution_count": 46,
     "metadata": {},
     "output_type": "execute_result"
    }
   ],
   "source": [
    "#take new data\n",
    "X_new = xtest[:10]\n",
    "y_proba = modelseq2.predict(X_new)\n",
    "y_proba.round(2)"
   ]
  },
  {
   "cell_type": "markdown",
   "id": "c6448667-bbe3-413f-8fbd-50a1e0eb6379",
   "metadata": {},
   "source": [
    "## Functional Model"
   ]
  },
  {
   "cell_type": "code",
   "execution_count": 47,
   "id": "6c28e755-a17f-48fa-af5d-ca1a05d1f70c",
   "metadata": {},
   "outputs": [
    {
     "data": {
      "text/plain": [
       "array([[0.],\n",
       "       [0.],\n",
       "       [0.],\n",
       "       [1.],\n",
       "       [0.],\n",
       "       [0.],\n",
       "       [0.],\n",
       "       [0.],\n",
       "       [0.],\n",
       "       [0.]], dtype=float32)"
      ]
     },
     "execution_count": 47,
     "metadata": {},
     "output_type": "execute_result"
    }
   ],
   "source": [
    "#take new data\n",
    "X_new = xtest[:10]\n",
    "y_proba = modelfun2.predict(X_new)\n",
    "y_proba.round(2)"
   ]
  },
  {
   "cell_type": "markdown",
   "id": "4c5e087c-e31f-4c70-9391-ed633a6f188d",
   "metadata": {},
   "source": [
    "# 13. Summary"
   ]
  },
  {
   "cell_type": "markdown",
   "id": "759af62e-ecb2-4e4c-b0f8-fd4c67e48f1b",
   "metadata": {},
   "source": [
    "- The best model to predict is the model with Sequential API model compared to Functional API model, because have a higher recall, and the loss is explainable\n",
    "- However, the model still needs more improvements since the recall is quite low.\n",
    "\n",
    "The details of the architecture are: \n",
    "\n",
    "- Weight initialzation with glorot normal\n",
    "- Have 10 hidden layers\n",
    "- Have starting 100 nodes\n",
    "- With loss is binary crossentrophy\n",
    "- Optimizer is adam\n",
    "- Epoch is 30 and batch size is 5"
   ]
  }
 ],
 "metadata": {
  "kernelspec": {
   "display_name": "Python 3.9.7 ('cpu')",
   "language": "python",
   "name": "python3"
  },
  "language_info": {
   "codemirror_mode": {
    "name": "ipython",
    "version": 3
   },
   "file_extension": ".py",
   "mimetype": "text/x-python",
   "name": "python",
   "nbconvert_exporter": "python",
   "pygments_lexer": "ipython3",
   "version": "3.9.7"
  },
  "vscode": {
   "interpreter": {
    "hash": "1e3989b4e390cd7ca7958a0060124f1bb8be21e3d89065a14a86a9c06db01497"
   }
  }
 },
 "nbformat": 4,
 "nbformat_minor": 5
}
